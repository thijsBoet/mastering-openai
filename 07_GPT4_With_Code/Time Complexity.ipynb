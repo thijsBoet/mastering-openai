{
 "cells": [
  {
   "cell_type": "code",
   "execution_count": 21,
   "id": "39d7ac80",
   "metadata": {},
   "outputs": [],
   "source": [
    "import openai"
   ]
  },
  {
   "cell_type": "code",
   "execution_count": 22,
   "id": "96de38cc",
   "metadata": {},
   "outputs": [],
   "source": [
    "from dotenv import dotenv_values"
   ]
  },
  {
   "cell_type": "code",
   "execution_count": 23,
   "id": "3b630436",
   "metadata": {},
   "outputs": [],
   "source": [
    "config = dotenv_values(\"../.env\")"
   ]
  },
  {
   "cell_type": "code",
   "execution_count": 24,
   "id": "b3cb65c7",
   "metadata": {},
   "outputs": [],
   "source": [
    "openai.api_key = config[\"OPENAI_API_KEY\"]"
   ]
  },
  {
   "cell_type": "markdown",
   "id": "39d5e151",
   "metadata": {},
   "source": [
    "## Asking GPT-4 To Calculate Time Complexity"
   ]
  },
  {
   "cell_type": "code",
   "execution_count": 25,
   "id": "48145ca1",
   "metadata": {},
   "outputs": [],
   "source": [
    "bubble_sort = \"\"\"\n",
    "def sort(array):    \n",
    "  for i in range(len(array)):\n",
    "    for j in range(0, len(array) - i - 1):\n",
    "      if array[j] > array[j + 1]:\n",
    "        temp = array[j]\n",
    "        array[j] = array[j+1]\n",
    "        array[j+1] = temp\n",
    "\"\"\""
   ]
  },
  {
   "cell_type": "code",
   "execution_count": 26,
   "id": "0301aaef",
   "metadata": {},
   "outputs": [],
   "source": [
    "quick_sort = \"\"\"\n",
    "def partition(array, low, high):\n",
    "    pivot = array[high]\n",
    "    i = low - 1\n",
    " \n",
    "    for j in range(low, high):\n",
    "        if array[j] <= pivot:\n",
    "            i = i + 1\n",
    "            (array[i], array[j]) = (array[j], array[i])\n",
    "    (array[i + 1], array[high]) = (array[high], array[i + 1])\n",
    "    return i + 1\n",
    "  \n",
    "def sort(array, low, high):\n",
    "    if low < high:\n",
    "        pi = partition(array, low, high)\n",
    "        sort(array, low, pi - 1)\n",
    "        sort(array, pi + 1, high)\n",
    "\"\"\""
   ]
  },
  {
   "cell_type": "code",
   "execution_count": 27,
   "id": "bb7ffb05",
   "metadata": {},
   "outputs": [],
   "source": [
    "messages = [\n",
    "    {\"role\": \"user\", \"content\": f\"Calculate the time complexity of the following function: {quick_sort} \"}\n",
    "]"
   ]
  },
  {
   "cell_type": "code",
   "execution_count": 28,
   "id": "9e7c992a",
   "metadata": {},
   "outputs": [
    {
     "name": "stdout",
     "output_type": "stream",
     "text": [
      "The time complexity of the partition function is O(n), where n is the number of elements in the array. This is because the function iterates over the elements of the array once and performs constant time operations for each element.\n",
      "\n",
      "The sort function calls the partition function recursively until the low and high indices are equal or cross each other. In the worst case, this leads to a recursive call for each element in the array, resulting in a time complexity of O(n^2).\n",
      "\n",
      "However, on average, the time complexity of the sort function is O(n log n) due to the partitioning step dividing the array into roughly equal halves.\n"
     ]
    }
   ],
   "source": [
    "res = openai.ChatCompletion.create(\n",
    "    messages=messages,\n",
    "    model=\"gpt-3.5-turbo\",\n",
    ")\n",
    "print(res[\"choices\"][0][\"message\"][\"content\"])"
   ]
  },
  {
   "cell_type": "code",
   "execution_count": null,
   "id": "0fc07a38",
   "metadata": {},
   "outputs": [],
   "source": []
  },
  {
   "cell_type": "code",
   "execution_count": null,
   "id": "a12ed01b",
   "metadata": {},
   "outputs": [],
   "source": []
  }
 ],
 "metadata": {
  "kernelspec": {
   "display_name": "Python 3",
   "language": "python",
   "name": "python3"
  },
  "language_info": {
   "codemirror_mode": {
    "name": "ipython",
    "version": 3
   },
   "file_extension": ".py",
   "mimetype": "text/x-python",
   "name": "python",
   "nbconvert_exporter": "python",
   "pygments_lexer": "ipython3",
   "version": "3.10.5"
  }
 },
 "nbformat": 4,
 "nbformat_minor": 5
}
