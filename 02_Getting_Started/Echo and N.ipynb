{
 "cells": [
  {
   "cell_type": "code",
   "execution_count": 1,
   "id": "39d7ac80",
   "metadata": {},
   "outputs": [],
   "source": [
    "import openai"
   ]
  },
  {
   "cell_type": "code",
   "execution_count": 2,
   "id": "96de38cc",
   "metadata": {},
   "outputs": [],
   "source": [
    "from dotenv import dotenv_values"
   ]
  },
  {
   "cell_type": "code",
   "execution_count": 3,
   "id": "3b630436",
   "metadata": {},
   "outputs": [],
   "source": [
    "config = dotenv_values(\".env\")"
   ]
  },
  {
   "cell_type": "code",
   "execution_count": 4,
   "id": "b3cb65c7",
   "metadata": {},
   "outputs": [],
   "source": [
    "openai.api_key = config[\"OPENAI_API_KEY\"]"
   ]
  },
  {
   "cell_type": "code",
   "execution_count": 5,
   "id": "88b817b3",
   "metadata": {},
   "outputs": [
    {
     "data": {
      "text/plain": [
       "<OpenAIObject text_completion id=cmpl-75Lp5EH8o9KOCKL1eQ6VRKMsOroFj at 0x7fd938670ae0> JSON: {\n",
       "  \"choices\": [\n",
       "    {\n",
       "      \"finish_reason\": \"stop\",\n",
       "      \"index\": 0,\n",
       "      \"logprobs\": null,\n",
       "      \"text\": \"\\n\\nThe sun paints golden light\\nOn the tops of trees so tall\\nA rose blooms bright and white\\nSweet fragrance around it all\\n\\nThe birds they sing in bliss\\nAs they dance around the sky\\nInnocent moments of life\\nWe can stop and look and sigh\\n\\nThe air is crisp and cool\\nThe night stars shimmer with hope\\nLet us go out and enjoy\\nThis moment to fully elope\"\n",
       "    },\n",
       "    {\n",
       "      \"finish_reason\": \"length\",\n",
       "      \"index\": 1,\n",
       "      \"logprobs\": null,\n",
       "      \"text\": \"\\n\\nA sea of stars twinkle in the night,\\nTangling together in a mesmerizing sight,\\nMagick and mystery linger in the air,\\nSecret passions like the moon we all share.\\n\\nThe sky cascades a color so blue,\\nBringing the echo of even more dreams anew,\\nSoaring high, it's beauty will never drop,\\nEscaping the darkness so many do poorly cope.\\n\\nWe are all blessed with our own inner light,\\n\"\n",
       "    },\n",
       "    {\n",
       "      \"finish_reason\": \"length\",\n",
       "      \"index\": 2,\n",
       "      \"logprobs\": null,\n",
       "      \"text\": \"\\n\\nBe not drawn by false allure,\\nFrom whatever darkness shall call.\\nReject beckon of your mind's lure,\\nIt only drives to harm y'all.\\n\\nForget the way of despair,\\nIt fills the soul with dread.\\nTurn unto what's held most dear,\\nAnd find yer way instead.\\n\\nFor joy is near at hand,\\nAnd love shall ever win.\\nSo cling to what breathes life in,\\nWhere\"\n",
       "    }\n",
       "  ],\n",
       "  \"created\": 1681509883,\n",
       "  \"id\": \"cmpl-75Lp5EH8o9KOCKL1eQ6VRKMsOroFj\",\n",
       "  \"model\": \"text-davinci-003\",\n",
       "  \"object\": \"text_completion\",\n",
       "  \"usage\": {\n",
       "    \"completion_tokens\": 288,\n",
       "    \"prompt_tokens\": 4,\n",
       "    \"total_tokens\": 292\n",
       "  }\n",
       "}"
      ]
     },
     "execution_count": 5,
     "metadata": {},
     "output_type": "execute_result"
    }
   ],
   "source": [
    "openai.Completion.create(\n",
    "    model=\"text-davinci-003\",\n",
    "    prompt=\"write me a poem\",\n",
    "    max_tokens=100,\n",
    "    n=3\n",
    ")"
   ]
  },
  {
   "cell_type": "code",
   "execution_count": 18,
   "id": "644044f3",
   "metadata": {},
   "outputs": [
    {
     "data": {
      "text/plain": [
       "<OpenAIObject text_completion id=cmpl-6v8roHbVe97rMBl7b4WMZMnmPuTPa at 0x7fc3f82b06d0> JSON: {\n",
       "  \"choices\": [\n",
       "    {\n",
       "      \"finish_reason\": \"stop\",\n",
       "      \"index\": 0,\n",
       "      \"logprobs\": null,\n",
       "      \"text\": \"\\n\\nA: The Burj Khalifa in Dubai, United Arab Emirates is currently the tallest building in the world, standing at an impressive 2,716.5 ft (828 m) tall.\"\n",
       "    }\n",
       "  ],\n",
       "  \"created\": 1679076800,\n",
       "  \"id\": \"cmpl-6v8roHbVe97rMBl7b4WMZMnmPuTPa\",\n",
       "  \"model\": \"text-davinci-003\",\n",
       "  \"object\": \"text_completion\",\n",
       "  \"usage\": {\n",
       "    \"completion_tokens\": 42,\n",
       "    \"prompt_tokens\": 11,\n",
       "    \"total_tokens\": 53\n",
       "  }\n",
       "}"
      ]
     },
     "execution_count": 18,
     "metadata": {},
     "output_type": "execute_result"
    }
   ],
   "source": [
    "openai.Completion.create(\n",
    "    model=\"text-davinci-003\",\n",
    "    prompt=\"Q: What is the tallest building in the world?\",\n",
    "    max_tokens=100,\n",
    "#     echo=True\n",
    ")"
   ]
  },
  {
   "cell_type": "code",
   "execution_count": 19,
   "id": "9a4fc8b0",
   "metadata": {},
   "outputs": [
    {
     "data": {
      "text/plain": [
       "<OpenAIObject text_completion id=cmpl-6v8sH7bOi2GM3uY502UHhj7Jn8YuZ at 0x7fc3a8b09b80> JSON: {\n",
       "  \"choices\": [\n",
       "    {\n",
       "      \"finish_reason\": \"stop\",\n",
       "      \"index\": 0,\n",
       "      \"logprobs\": null,\n",
       "      \"text\": \"\\n\\nGreen.\"\n",
       "    }\n",
       "  ],\n",
       "  \"created\": 1679076829,\n",
       "  \"id\": \"cmpl-6v8sH7bOi2GM3uY502UHhj7Jn8YuZ\",\n",
       "  \"model\": \"text-davinci-003\",\n",
       "  \"object\": \"text_completion\",\n",
       "  \"usage\": {\n",
       "    \"completion_tokens\": 4,\n",
       "    \"prompt_tokens\": 15,\n",
       "    \"total_tokens\": 19\n",
       "  }\n",
       "}"
      ]
     },
     "execution_count": 19,
     "metadata": {},
     "output_type": "execute_result"
    }
   ],
   "source": [
    "openai.Completion.create(\n",
    "    model=\"text-davinci-003\",\n",
    "    prompt=\"In a single word, what is the color of a pickle? \",\n",
    "    max_tokens=100,\n",
    "#     echo=True\n",
    ")"
   ]
  },
  {
   "cell_type": "code",
   "execution_count": 6,
   "id": "04bdf334",
   "metadata": {},
   "outputs": [
    {
     "data": {
      "text/plain": [
       "<OpenAIObject text_completion id=cmpl-75LpG5nRAmGYyg6IW1hWYg1kltG3S at 0x7fd938686220> JSON: {\n",
       "  \"choices\": [\n",
       "    {\n",
       "      \"finish_reason\": \"stop\",\n",
       "      \"index\": 0,\n",
       "      \"logprobs\": null,\n",
       "      \"text\": \"In a single word, what is the color of a pickle? \\n\\nGreen.\"\n",
       "    }\n",
       "  ],\n",
       "  \"created\": 1681509894,\n",
       "  \"id\": \"cmpl-75LpG5nRAmGYyg6IW1hWYg1kltG3S\",\n",
       "  \"model\": \"text-davinci-003\",\n",
       "  \"object\": \"text_completion\",\n",
       "  \"usage\": {\n",
       "    \"completion_tokens\": 4,\n",
       "    \"prompt_tokens\": 15,\n",
       "    \"total_tokens\": 19\n",
       "  }\n",
       "}"
      ]
     },
     "execution_count": 6,
     "metadata": {},
     "output_type": "execute_result"
    }
   ],
   "source": [
    "openai.Completion.create(\n",
    "    model=\"text-davinci-003\",\n",
    "    prompt=\"In a single word, what is the color of a pickle? \",\n",
    "    max_tokens=100,\n",
    "    echo=True\n",
    ")"
   ]
  },
  {
   "cell_type": "code",
   "execution_count": null,
   "id": "3ea8fde2",
   "metadata": {},
   "outputs": [],
   "source": []
  }
 ],
 "metadata": {
  "kernelspec": {
   "display_name": "Python 3",
   "language": "python",
   "name": "python3"
  },
  "language_info": {
   "codemirror_mode": {
    "name": "ipython",
    "version": 3
   },
   "file_extension": ".py",
   "mimetype": "text/x-python",
   "name": "python",
   "nbconvert_exporter": "python",
   "pygments_lexer": "ipython3",
   "version": "3.8.8"
  }
 },
 "nbformat": 4,
 "nbformat_minor": 5
}
