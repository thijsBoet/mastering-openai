{
 "cells": [
  {
   "cell_type": "code",
   "execution_count": 1,
   "id": "39d7ac80",
   "metadata": {},
   "outputs": [],
   "source": [
    "import openai"
   ]
  },
  {
   "cell_type": "code",
   "execution_count": 2,
   "id": "96de38cc",
   "metadata": {},
   "outputs": [],
   "source": [
    "from dotenv import dotenv_values"
   ]
  },
  {
   "cell_type": "code",
   "execution_count": 3,
   "id": "3b630436",
   "metadata": {},
   "outputs": [],
   "source": [
    "config = dotenv_values(\".env\")"
   ]
  },
  {
   "cell_type": "code",
   "execution_count": 4,
   "id": "b3cb65c7",
   "metadata": {},
   "outputs": [],
   "source": [
    "openai.api_key = config[\"OPENAI_API_KEY\"]"
   ]
  },
  {
   "cell_type": "code",
   "execution_count": 28,
   "id": "2d22862f",
   "metadata": {},
   "outputs": [],
   "source": [
    "italian_news = open(\"./audio/italian_news.wav\", \"rb\")"
   ]
  },
  {
   "cell_type": "code",
   "execution_count": 29,
   "id": "a3a7426d",
   "metadata": {},
   "outputs": [],
   "source": [
    "italian_response = openai.Audio.translate(\n",
    "    model=\"whisper-1\",\n",
    "    file=italian_news\n",
    ")"
   ]
  },
  {
   "cell_type": "code",
   "execution_count": 30,
   "id": "d5a92d86",
   "metadata": {},
   "outputs": [
    {
     "data": {
      "text/plain": [
       "<OpenAIObject at 0x7f87a062ba40> JSON: {\n",
       "  \"text\": \"While the alarm for the virus in China is growing, in Italy only last week almost 500,000 cases of seasonal flu were reported, which is therefore reaching its peak in mid-January, as was expected by the Ministry of Health. So far, Italians have been affected by almost 3 million cases.\"\n",
       "}"
      ]
     },
     "execution_count": 30,
     "metadata": {},
     "output_type": "execute_result"
    }
   ],
   "source": [
    "italian_response"
   ]
  },
  {
   "cell_type": "code",
   "execution_count": null,
   "id": "2b04f70a",
   "metadata": {},
   "outputs": [],
   "source": []
  },
  {
   "cell_type": "code",
   "execution_count": 31,
   "id": "86273678",
   "metadata": {},
   "outputs": [],
   "source": [
    "# Record Some audio\n",
    "\n",
    "import wave\n",
    "import sys\n",
    "import pyaudio\n",
    "\n",
    "CHUNK = 1024\n",
    "FORMAT = pyaudio.paInt16\n",
    "CHANNELS = 1 if sys.platform == \"darwin\" else 2\n",
    "RATE = 44100\n",
    "\n",
    "\n",
    "def record_audio(seconds: int, filename: str):\n",
    "    output_path = f\"./audio/{filename}\"\n",
    "    with wave.open(output_path, \"wb\") as wf:\n",
    "        p = pyaudio.PyAudio()\n",
    "        wf.setnchannels(CHANNELS)\n",
    "        wf.setsampwidth(p.get_sample_size(FORMAT))\n",
    "        wf.setframerate(RATE)\n",
    "\n",
    "        stream = p.open(format=FORMAT, channels=CHANNELS, rate=RATE, input=True)\n",
    "\n",
    "        print(\"Recording...\")\n",
    "        for index in range(0, RATE // CHUNK * seconds):\n",
    "            if index % (RATE // CHUNK) == 0:\n",
    "                print(f\"{index // (RATE // CHUNK)} / {seconds}s\")\n",
    "            wf.writeframes(stream.read(CHUNK))\n",
    "        print(\"Done\")\n",
    "\n",
    "        stream.close()\n",
    "        p.terminate()\n",
    "    print(f\"File saved at {output_path}\")\n",
    "    return output_path"
   ]
  },
  {
   "cell_type": "code",
   "execution_count": 32,
   "id": "a0d17f24",
   "metadata": {},
   "outputs": [
    {
     "name": "stdout",
     "output_type": "stream",
     "text": [
      "Recording...\n",
      "0 / 20s\n",
      "1 / 20s\n",
      "2 / 20s\n",
      "3 / 20s\n",
      "4 / 20s\n",
      "5 / 20s\n",
      "6 / 20s\n",
      "7 / 20s\n",
      "8 / 20s\n",
      "9 / 20s\n",
      "10 / 20s\n",
      "11 / 20s\n",
      "12 / 20s\n",
      "13 / 20s\n",
      "14 / 20s\n",
      "15 / 20s\n",
      "16 / 20s\n",
      "17 / 20s\n",
      "18 / 20s\n",
      "19 / 20s\n",
      "Done\n",
      "File saved at ./audio/chinese_news.wav\n"
     ]
    },
    {
     "data": {
      "text/plain": [
       "'./audio/chinese_news.wav'"
      ]
     },
     "execution_count": 32,
     "metadata": {},
     "output_type": "execute_result"
    }
   ],
   "source": [
    "record_audio(20, \"chinese_news.wav\")"
   ]
  },
  {
   "cell_type": "code",
   "execution_count": 33,
   "id": "beb189d8",
   "metadata": {},
   "outputs": [],
   "source": [
    "chinese_news = open(\"./audio/chinese_news.wav\", \"rb\")"
   ]
  },
  {
   "cell_type": "code",
   "execution_count": 34,
   "id": "6f9e53d7",
   "metadata": {},
   "outputs": [],
   "source": [
    "chinese_response = openai.Audio.translate(\n",
    "    model=\"whisper-1\",\n",
    "    file=chinese_news\n",
    ")"
   ]
  },
  {
   "cell_type": "code",
   "execution_count": 35,
   "id": "ffddb6a2",
   "metadata": {},
   "outputs": [
    {
     "data": {
      "text/plain": [
       "<OpenAIObject at 0x7f87612b2cc0> JSON: {\n",
       "  \"text\": \"Yesterday, the Central Meteorological Observatory continued to release the cold blue forecast, the new low since the winter of this year. The cold weather in this round lasts a long time and has a wide range of effects. However, the cold weather still can't stop people's enthusiasm. The winter scenery attracts many tourists. This article says that the cold weather has brought a lot of people to the city.\"\n",
       "}"
      ]
     },
     "execution_count": 35,
     "metadata": {},
     "output_type": "execute_result"
    }
   ],
   "source": [
    "chinese_response"
   ]
  },
  {
   "cell_type": "code",
   "execution_count": null,
   "id": "5fb6b8fc",
   "metadata": {},
   "outputs": [],
   "source": []
  },
  {
   "cell_type": "code",
   "execution_count": null,
   "id": "321c61a2",
   "metadata": {},
   "outputs": [],
   "source": []
  }
 ],
 "metadata": {
  "kernelspec": {
   "display_name": "Python 3",
   "language": "python",
   "name": "python3"
  },
  "language_info": {
   "codemirror_mode": {
    "name": "ipython",
    "version": 3
   },
   "file_extension": ".py",
   "mimetype": "text/x-python",
   "name": "python",
   "nbconvert_exporter": "python",
   "pygments_lexer": "ipython3",
   "version": "3.8.8"
  }
 },
 "nbformat": 4,
 "nbformat_minor": 5
}
