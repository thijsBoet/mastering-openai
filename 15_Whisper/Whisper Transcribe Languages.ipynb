{
 "cells": [
  {
   "cell_type": "code",
   "execution_count": 1,
   "id": "39d7ac80",
   "metadata": {},
   "outputs": [],
   "source": [
    "import openai"
   ]
  },
  {
   "cell_type": "code",
   "execution_count": 2,
   "id": "96de38cc",
   "metadata": {},
   "outputs": [],
   "source": [
    "from dotenv import dotenv_values"
   ]
  },
  {
   "cell_type": "code",
   "execution_count": 3,
   "id": "3b630436",
   "metadata": {},
   "outputs": [],
   "source": [
    "config = dotenv_values(\".env\")"
   ]
  },
  {
   "cell_type": "code",
   "execution_count": 4,
   "id": "b3cb65c7",
   "metadata": {},
   "outputs": [],
   "source": [
    "openai.api_key = config[\"OPENAI_API_KEY\"]"
   ]
  },
  {
   "cell_type": "code",
   "execution_count": 7,
   "id": "11746170",
   "metadata": {},
   "outputs": [],
   "source": [
    "# Record Some audio\n",
    "\n",
    "import wave\n",
    "import sys\n",
    "import pyaudio\n",
    "\n",
    "CHUNK = 1024\n",
    "FORMAT = pyaudio.paInt16\n",
    "CHANNELS = 1 if sys.platform == \"darwin\" else 2\n",
    "RATE = 44100\n",
    "\n",
    "\n",
    "def record_audio(seconds: int, filename: str):\n",
    "    output_path = f\"./audio/{filename}\"\n",
    "    with wave.open(output_path, \"wb\") as wf:\n",
    "        p = pyaudio.PyAudio()\n",
    "        wf.setnchannels(CHANNELS)\n",
    "        wf.setsampwidth(p.get_sample_size(FORMAT))\n",
    "        wf.setframerate(RATE)\n",
    "\n",
    "        stream = p.open(format=FORMAT, channels=CHANNELS, rate=RATE, input=True)\n",
    "\n",
    "        print(\"Recording...\")\n",
    "        for index in range(0, RATE // CHUNK * seconds):\n",
    "            if index % (RATE // CHUNK) == 0:\n",
    "                print(f\"{index // (RATE // CHUNK)} / {seconds}s\")\n",
    "            wf.writeframes(stream.read(CHUNK))\n",
    "        print(\"Done\")\n",
    "\n",
    "        stream.close()\n",
    "        p.terminate()\n",
    "    print(f\"File saved at {output_path}\")\n",
    "    return output_path"
   ]
  },
  {
   "cell_type": "code",
   "execution_count": 35,
   "id": "9f7cbe12",
   "metadata": {},
   "outputs": [
    {
     "name": "stdout",
     "output_type": "stream",
     "text": [
      "Recording...\n",
      "0 / 5s\n",
      "1 / 5s\n",
      "2 / 5s\n",
      "3 / 5s\n",
      "4 / 5s\n",
      "Done\n",
      "File saved at ./audio/french.wav\n"
     ]
    },
    {
     "data": {
      "text/plain": [
       "'./audio/french.wav'"
      ]
     },
     "execution_count": 35,
     "metadata": {},
     "output_type": "execute_result"
    }
   ],
   "source": [
    "record_audio(5, \"french.wav\")"
   ]
  },
  {
   "cell_type": "code",
   "execution_count": 55,
   "id": "e6ce2120",
   "metadata": {},
   "outputs": [],
   "source": [
    "french_file = open(\"./audio/french.wav\", \"rb\")"
   ]
  },
  {
   "cell_type": "code",
   "execution_count": 56,
   "id": "d9a80031",
   "metadata": {},
   "outputs": [],
   "source": [
    "french_response = openai.Audio.transcribe(\n",
    "    model=\"whisper-1\",\n",
    "    file=french_file\n",
    ")"
   ]
  },
  {
   "cell_type": "code",
   "execution_count": 57,
   "id": "025ac1f5",
   "metadata": {},
   "outputs": [
    {
     "data": {
      "text/plain": [
       "<OpenAIObject at 0x7feb289ffdb0> JSON: {\n",
       "  \"text\": \"Bonjour, je m'appelle Colt Steel et je voudrais un croissant.\"\n",
       "}"
      ]
     },
     "execution_count": 57,
     "metadata": {},
     "output_type": "execute_result"
    }
   ],
   "source": [
    "french_response"
   ]
  },
  {
   "cell_type": "code",
   "execution_count": 58,
   "id": "b3d7b1e1",
   "metadata": {},
   "outputs": [],
   "source": [
    "italian_news = open(\"./audio/italian_news.wav\", \"rb\")"
   ]
  },
  {
   "cell_type": "code",
   "execution_count": 59,
   "id": "699125bb",
   "metadata": {},
   "outputs": [],
   "source": [
    "italian_response = openai.Audio.transcribe(\n",
    "    model=\"whisper-1\",\n",
    "    file=italian_news\n",
    ")"
   ]
  },
  {
   "cell_type": "code",
   "execution_count": 60,
   "id": "c7f3a7bb",
   "metadata": {},
   "outputs": [
    {
     "data": {
      "text/plain": [
       "<OpenAIObject at 0x7feb289fcb80> JSON: {\n",
       "  \"text\": \"Mentre cresce l'allarme per il virus in Cina, in Italia soltanto la scorsa settimana sono stati segnalati quasi 500.000 casi di influenza stagionale, che a met\\u00e0 gennaio sta dunque raggiungendo il suo picco, come era stato previsto dal Ministero della Salute. Finora gli italiani colpiti sono quasi 3 milioni.\"\n",
       "}"
      ]
     },
     "execution_count": 60,
     "metadata": {},
     "output_type": "execute_result"
    }
   ],
   "source": [
    "italian_response"
   ]
  },
  {
   "cell_type": "code",
   "execution_count": null,
   "id": "05fe0585",
   "metadata": {},
   "outputs": [],
   "source": []
  }
 ],
 "metadata": {
  "kernelspec": {
   "display_name": "Python 3",
   "language": "python",
   "name": "python3"
  },
  "language_info": {
   "codemirror_mode": {
    "name": "ipython",
    "version": 3
   },
   "file_extension": ".py",
   "mimetype": "text/x-python",
   "name": "python",
   "nbconvert_exporter": "python",
   "pygments_lexer": "ipython3",
   "version": "3.8.8"
  }
 },
 "nbformat": 4,
 "nbformat_minor": 5
}
