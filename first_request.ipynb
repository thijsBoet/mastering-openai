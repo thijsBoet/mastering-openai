{
 "cells": [
  {
   "cell_type": "code",
   "execution_count": 42,
   "id": "9e1f8762-4fee-4384-b75b-4c6d3710038e",
   "metadata": {},
   "outputs": [],
   "source": [
    "import openai"
   ]
  },
  {
   "cell_type": "code",
   "execution_count": 43,
   "id": "9e2adb7c-e95a-480a-94d5-e10ff006d8b0",
   "metadata": {},
   "outputs": [],
   "source": [
    "from dotenv import dotenv_values"
   ]
  },
  {
   "cell_type": "code",
   "execution_count": 44,
   "id": "67f0d840-301e-43d1-9e82-cea60def9550",
   "metadata": {},
   "outputs": [],
   "source": [
    "config = dotenv_values(\".env\")"
   ]
  },
  {
   "cell_type": "code",
   "execution_count": 45,
   "id": "d44ef3fe-bfbb-4bef-9594-d0c4c404447e",
   "metadata": {},
   "outputs": [],
   "source": [
    "openai.api_key = config[\"OPENAI_API_KEY\"]\n"
   ]
  },
  {
   "cell_type": "code",
   "execution_count": 46,
   "id": "181f35fb",
   "metadata": {},
   "outputs": [],
   "source": [
    "# openai.Completion.create(\n",
    "#     model=\"text-davinci-003\",\n",
    "#     prompt=\"Generate a list of the best movies of all time \",\n",
    "#     max_tokens=200,\n",
    "# )\n"
   ]
  },
  {
   "cell_type": "code",
   "execution_count": 56,
   "id": "3427f315-1556-4e91-8ade-74e4501c8581",
   "metadata": {},
   "outputs": [
    {
     "data": {
      "text/plain": [
       "<OpenAIObject text_completion id=cmpl-7UbMFrJa93f9kul4DifQivfYMc6bb at 0x240613896c0> JSON: {\n",
       "  \"id\": \"cmpl-7UbMFrJa93f9kul4DifQivfYMc6bb\",\n",
       "  \"object\": \"text_completion\",\n",
       "  \"created\": 1687527799,\n",
       "  \"model\": \"text-davinci-003\",\n",
       "  \"choices\": [\n",
       "    {\n",
       "      \"text\": \"\\n\\nGeur van de lente\\nKleuren breken aan het strand,\\nVergeten hoe het was.\",\n",
       "      \"index\": 0,\n",
       "      \"logprobs\": null,\n",
       "      \"finish_reason\": \"stop\"\n",
       "    }\n",
       "  ],\n",
       "  \"usage\": {\n",
       "    \"prompt_tokens\": 10,\n",
       "    \"completion_tokens\": 30,\n",
       "    \"total_tokens\": 40\n",
       "  }\n",
       "}"
      ]
     },
     "execution_count": 56,
     "metadata": {},
     "output_type": "execute_result"
    }
   ],
   "source": [
    "openai.Completion.create(\n",
    "  model=\"text-davinci-003\",\n",
    "  prompt=\"Write me a haiku poem in dutch:\",\n",
    "  max_tokens=100, # number of tokens per response\n",
    "  n=1, # number of responses to return\n",
    "  echo=True, # echo the prompt back in the completion no extra tokens charged\n",
    "  # stop=\"5.\" stop after the 5. sequence\n",
    "  # stop=[\"10.\", \"20.\", \"30.\", \"40.\", \"50.\"], # stop multiple sequences in dictionary\n",
    ")"
   ]
  },
  {
   "cell_type": "code",
   "execution_count": 54,
   "id": "932611f0",
   "metadata": {},
   "outputs": [
    {
     "name": "stdout",
     "output_type": "stream",
     "text": [
      "{\n",
      "  \"id\": \"cmpl-7UbLRHBu5IhiO09vzouZxz61BMxBR\",\n",
      "  \"object\": \"text_completion\",\n",
      "  \"created\": 1687527749,\n",
      "  \"model\": \"text-davinci-003\",\n",
      "  \"choices\": [\n",
      "    {\n",
      "      \"text\": \"\\n\\nSummer breeze blowing\\nCool, crisp air refreshes us\\nSmiles on faces abound\",\n",
      "      \"index\": 0,\n",
      "      \"logprobs\": null,\n",
      "      \"finish_reason\": \"stop\"\n",
      "    }\n",
      "  ],\n",
      "  \"usage\": {\n",
      "    \"prompt_tokens\": 6,\n",
      "    \"completion_tokens\": 19,\n",
      "    \"total_tokens\": 25\n",
      "  }\n",
      "}\n"
     ]
    },
    {
     "ename": "TypeError",
     "evalue": "'NoneType' object is not subscriptable",
     "output_type": "error",
     "traceback": [
      "\u001b[1;31m---------------------------------------------------------------------------\u001b[0m",
      "\u001b[1;31mTypeError\u001b[0m                                 Traceback (most recent call last)",
      "\u001b[1;32md:\\courses\\mastering-openai\\first_request.ipynb Cell 7\u001b[0m in \u001b[0;36m<cell line: 1>\u001b[1;34m()\u001b[0m\n\u001b[1;32m----> <a href='vscode-notebook-cell:/d%3A/courses/mastering-openai/first_request.ipynb#W6sZmlsZQ%3D%3D?line=0'>1</a>\u001b[0m \u001b[39mprint\u001b[39;49m(response)[\u001b[39m\"\u001b[39;49m\u001b[39mchoices\u001b[39;49m\u001b[39m\"\u001b[39;49m][\u001b[39m0\u001b[39m][\u001b[39m\"\u001b[39m\u001b[39mtext\u001b[39m\u001b[39m\"\u001b[39m]\n",
      "\u001b[1;31mTypeError\u001b[0m: 'NoneType' object is not subscriptable"
     ]
    }
   ],
   "source": [
    "# print(response)[\"choices\"][0][\"text\"]\n",
    "\n"
   ]
  },
  {
   "cell_type": "code",
   "execution_count": null,
   "id": "1b3679bc",
   "metadata": {},
   "outputs": [],
   "source": []
  }
 ],
 "metadata": {
  "kernelspec": {
   "display_name": "Python 3 (ipykernel)",
   "language": "python",
   "name": "python3"
  },
  "language_info": {
   "codemirror_mode": {
    "name": "ipython",
    "version": 3
   },
   "file_extension": ".py",
   "mimetype": "text/x-python",
   "name": "python",
   "nbconvert_exporter": "python",
   "pygments_lexer": "ipython3",
   "version": "3.10.5"
  }
 },
 "nbformat": 4,
 "nbformat_minor": 5
}
