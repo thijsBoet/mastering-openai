{
 "cells": [
  {
   "cell_type": "code",
   "execution_count": 10,
   "id": "9e1f8762-4fee-4384-b75b-4c6d3710038e",
   "metadata": {},
   "outputs": [],
   "source": [
    "import openai"
   ]
  },
  {
   "cell_type": "code",
   "execution_count": 11,
   "id": "9e2adb7c-e95a-480a-94d5-e10ff006d8b0",
   "metadata": {},
   "outputs": [],
   "source": [
    "from dotenv import dotenv_values"
   ]
  },
  {
   "cell_type": "code",
   "execution_count": 12,
   "id": "67f0d840-301e-43d1-9e82-cea60def9550",
   "metadata": {},
   "outputs": [],
   "source": [
    "config = dotenv_values(\".env\")"
   ]
  },
  {
   "cell_type": "code",
   "execution_count": 13,
   "id": "d44ef3fe-bfbb-4bef-9594-d0c4c404447e",
   "metadata": {},
   "outputs": [],
   "source": [
    "openai.api_key = config[\"OPENAI_API_KEY\"]\n"
   ]
  },
  {
   "cell_type": "code",
   "execution_count": 14,
   "id": "3427f315-1556-4e91-8ade-74e4501c8581",
   "metadata": {},
   "outputs": [
    {
     "data": {
      "text/plain": [
       "<OpenAIObject text_completion id=cmpl-7UZc3gP3IeZAxwScX9Bb4SsjNd15x at 0x1f98702b150> JSON: {\n",
       "  \"id\": \"cmpl-7UZc3gP3IeZAxwScX9Bb4SsjNd15x\",\n",
       "  \"object\": \"text_completion\",\n",
       "  \"created\": 1687521091,\n",
       "  \"model\": \"text-davinci-003\",\n",
       "  \"choices\": [\n",
       "    {\n",
       "      \"text\": \"\\n\\nThat is not an appropriate question for me to answer.\",\n",
       "      \"index\": 0,\n",
       "      \"logprobs\": null,\n",
       "      \"finish_reason\": \"stop\"\n",
       "    }\n",
       "  ],\n",
       "  \"usage\": {\n",
       "    \"prompt_tokens\": 6,\n",
       "    \"completion_tokens\": 13,\n",
       "    \"total_tokens\": 19\n",
       "  }\n",
       "}"
      ]
     },
     "execution_count": 14,
     "metadata": {},
     "output_type": "execute_result"
    }
   ],
   "source": [
    "openai.Completion.create(\n",
    "  model=\"text-davinci-003\",\n",
    "  prompt=\"Do you like me? \",\n",
    ")"
   ]
  }
 ],
 "metadata": {
  "kernelspec": {
   "display_name": "Python 3 (ipykernel)",
   "language": "python",
   "name": "python3"
  },
  "language_info": {
   "codemirror_mode": {
    "name": "ipython",
    "version": 3
   },
   "file_extension": ".py",
   "mimetype": "text/x-python",
   "name": "python",
   "nbconvert_exporter": "python",
   "pygments_lexer": "ipython3",
   "version": "3.10.5"
  }
 },
 "nbformat": 4,
 "nbformat_minor": 5
}
