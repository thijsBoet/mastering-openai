{
	"cells": [
		{
			"cell_type": "code",
			"execution_count": 68,
			"id": "2b65de9a",
			"metadata": {},
			"outputs": [],
			"source": [
				"import tiktoken"
			]
		},
		{
			"cell_type": "code",
			"execution_count": 77,
			"id": "204b8a05",
			"metadata": {},
			"outputs": [],
			"source": [
				"# enc = tiktoken.get_encoding(\"cl100k_base\")\n",
				"enc = tiktoken.encoding_for_model(\"gpt-3.5-turbo\")"
			]
		},
		{
			"cell_type": "markdown",
			"id": "9a86fc50",
			"metadata": {},
			"source": [
				"## Counting Tokens In Text"
			]
		},
		{
			"cell_type": "code",
			"execution_count": 78,
			"id": "51c32d58",
			"metadata": {},
			"outputs": [
				{
					"data": {
						"text/plain": [
							"3"
						]
					},
					"execution_count": 78,
					"metadata": {},
					"output_type": "execute_result"
				}
			],
			"source": [
				"len(enc.encode(\"Hello world!\"))"
			]
		},
		{
			"cell_type": "code",
			"execution_count": 72,
			"id": "6db00f7c",
			"metadata": {},
			"outputs": [],
			"source": [
				"book_text = \"\"\"\n",
				"Mrs. Darling quivered and went to the window. It was securely fastened.\n",
				"She looked out, and the night was peppered with stars. They were\n",
				"crowding round the house, as if curious to see what was to take place\n",
				"there, but she did not notice this, nor that one or two of the smaller\n",
				"ones winked at her. Yet a nameless fear clutched at her heart and made\n",
				"her cry, “Oh, how I wish that I wasn’t going to a party to-night!”\n",
				"\n",
				"Even Michael, already half asleep, knew that she was perturbed, and he\n",
				"asked, “Can anything harm us, mother, after the night-lights are lit?”\n",
				"\n",
				"“Nothing, precious,” she said; “they are the eyes a mother leaves\n",
				"behind her to guard her children.”\n",
				"\n",
				"She went from bed to bed singing enchantments over them, and little\n",
				"Michael flung his arms round her. “Mother,” he cried, “I’m glad of\n",
				"you.” They were the last words she was to hear from him for a long\n",
				"time.\n",
				"\"\"\""
			]
		},
		{
			"cell_type": "code",
			"execution_count": 79,
			"id": "8468368c",
			"metadata": {},
			"outputs": [
				{
					"data": {
						"text/plain": [
							"224"
						]
					},
					"execution_count": 79,
					"metadata": {},
					"output_type": "execute_result"
				}
			],
			"source": [
				"len(enc.encode(book_text))"
			]
		},
		{
			"cell_type": "code",
			"execution_count": 80,
			"id": "602ac508",
			"metadata": {},
			"outputs": [],
			"source": [
				"def num_tokens_from_string(string: str, model_name: str) -> int:\n",
				"    \"\"\"Returns the number of tokens in a text string.\"\"\"\n",
				"    encoding = tiktoken.encoding_for_model(model_name)\n",
				"    num_tokens = len(encoding.encode(string))\n",
				"    return num_tokens"
			]
		},
		{
			"cell_type": "code",
			"execution_count": 81,
			"id": "541f6992",
			"metadata": {},
			"outputs": [
				{
					"data": {
						"text/plain": [
							"224"
						]
					},
					"execution_count": 81,
					"metadata": {},
					"output_type": "execute_result"
				}
			],
			"source": [
				"num_tokens_from_string(book_text, \"gpt-3.5-turbo\")"
			]
		},
		{
			"cell_type": "code",
			"execution_count": 82,
			"id": "1b900348",
			"metadata": {},
			"outputs": [
				{
					"data": {
						"text/plain": [
							"253"
						]
					},
					"execution_count": 82,
					"metadata": {},
					"output_type": "execute_result"
				}
			],
			"source": [
				"num_tokens_from_string(book_text, \"text-davinci-003\")"
			]
		},
		{
			"cell_type": "code",
			"execution_count": 83,
			"id": "57132fdd",
			"metadata": {},
			"outputs": [],
			"source": [
				"price_per_token = 0.002 / 1000"
			]
		},
		{
			"cell_type": "code",
			"execution_count": 85,
			"id": "3dbfb5ee",
			"metadata": {},
			"outputs": [
				{
					"data": {
						"text/plain": [
							"0.000448"
						]
					},
					"execution_count": 85,
					"metadata": {},
					"output_type": "execute_result"
				}
			],
			"source": [
				"num_tokens_from_string(book_text, \"gpt-3.5-turbo\") * price_per_token"
			]
		},
		{
			"cell_type": "markdown",
			"id": "b878a6ec",
			"metadata": {},
			"source": [
				"## Counting Tokens in Messages (for Chat API)"
			]
		},
		{
			"cell_type": "code",
			"execution_count": 88,
			"id": "95fff974",
			"metadata": {},
			"outputs": [],
			"source": [
				"def num_tokens_from_messages(messages, model=\"gpt-3.5-turbo-0301\"):\n",
				"    \"\"\"Returns the number of tokens used by a list of messages.\"\"\"\n",
				"    try:\n",
				"        encoding = tiktoken.encoding_for_model(model)\n",
				"    except KeyError:\n",
				"        print(\"Warning: model not found. Using cl100k_base encoding.\")\n",
				"        encoding = tiktoken.get_encoding(\"cl100k_base\")\n",
				"    if model == \"gpt-3.5-turbo\":\n",
				"        print(\"Warning: gpt-3.5-turbo may change over time. Returning num tokens assuming gpt-3.5-turbo-0301.\")\n",
				"        return num_tokens_from_messages(messages, model=\"gpt-3.5-turbo-0301\")\n",
				"    elif model == \"gpt-3.5-turbo\":\n",
				"        print(\"Warning: gpt-3.5-turbo may change over time. Returning num tokens assuming gpt-3.5-turbo-0314.\")\n",
				"        return num_tokens_from_messages(messages, model=\"gpt-3.5-turbo-0314\")\n",
				"    elif model == \"gpt-3.5-turbo-0301\":\n",
				"        tokens_per_message = 4  # every message follows <|start|>{role/name}\\n{content}<|end|>\\n\n",
				"        tokens_per_name = -1  # if there's a name, the role is omitted\n",
				"    elif model == \"gpt-3.5-turbo-0314\":\n",
				"        tokens_per_message = 3\n",
				"        tokens_per_name = 1\n",
				"    else:\n",
				"        raise NotImplementedError(f\"\"\"num_tokens_from_messages() is not implemented for model {model}. See https://github.com/openai/openai-python/blob/main/chatml.md for information on how messages are converted to tokens.\"\"\")\n",
				"    num_tokens = 0\n",
				"    for message in messages:\n",
				"        num_tokens += tokens_per_message\n",
				"        for key, value in message.items():\n",
				"            num_tokens += len(encoding.encode(value))\n",
				"            if key == \"name\":\n",
				"                num_tokens += tokens_per_name\n",
				"    num_tokens += 3  # every reply is primed with <|start|>assistant<|message|>\n",
				"    return num_tokens"
			]
		},
		{
			"cell_type": "code",
			"execution_count": 89,
			"id": "26c41d20",
			"metadata": {},
			"outputs": [],
			"source": [
				"example_messages = [\n",
				"    {\n",
				"        \"role\": \"system\",\n",
				"        \"content\": \"You are a helpful, pattern-following assistant that translates corporate jargon into plain English.\",\n",
				"    },\n",
				"    {\n",
				"        \"role\": \"system\",\n",
				"        \"name\": \"example_user\",\n",
				"        \"content\": \"New synergies will help drive top-line growth.\",\n",
				"    },\n",
				"    {\n",
				"        \"role\": \"system\",\n",
				"        \"name\": \"example_assistant\",\n",
				"        \"content\": \"Things working well together will increase revenue.\",\n",
				"    },\n",
				"    {\n",
				"        \"role\": \"system\",\n",
				"        \"name\": \"example_user\",\n",
				"        \"content\": \"Let's circle back when we have more bandwidth to touch base on opportunities for increased leverage.\",\n",
				"    },\n",
				"    {\n",
				"        \"role\": \"system\",\n",
				"        \"name\": \"example_assistant\",\n",
				"        \"content\": \"Let's talk later when we're less busy about how to do better.\",\n",
				"    },\n",
				"    {\n",
				"        \"role\": \"user\",\n",
				"        \"content\": \"This late pivot means we don't have time to boil the ocean for the client deliverable.\",\n",
				"    },\n",
				"]\n"
			]
		},
		{
			"cell_type": "code",
			"execution_count": 90,
			"id": "1603d1c0",
			"metadata": {},
			"outputs": [
				{
					"name": "stdout",
					"output_type": "stream",
					"text": [
						"Warning: gpt-3.5-turbo may change over time. Returning num tokens assuming gpt-3.5-turbo-0301.\n"
					]
				},
				{
					"data": {
						"text/plain": [
							"127"
						]
					},
					"execution_count": 90,
					"metadata": {},
					"output_type": "execute_result"
				}
			],
			"source": [
				"num_tokens_from_messages(example_messages, \"gpt-3.5-turbo\")"
			]
		},
		{
			"cell_type": "code",
			"execution_count": 91,
			"id": "a20c8deb",
			"metadata": {
				"scrolled": false
			},
			"outputs": [
				{
					"name": "stdout",
					"output_type": "stream",
					"text": [
						"Warning: gpt-3.5-turbo may change over time. Returning num tokens assuming gpt-3.5-turbo-0314.\n"
					]
				},
				{
					"data": {
						"text/plain": [
							"129"
						]
					},
					"execution_count": 91,
					"metadata": {},
					"output_type": "execute_result"
				}
			],
			"source": [
				"num_tokens_from_messages(example_messages, \"gpt-3.5-turbo\")"
			]
		},
		{
			"cell_type": "markdown",
			"id": "efb6ef91",
			"metadata": {},
			"source": [
				"### Confirming Token Counts With a Real Request"
			]
		},
		{
			"cell_type": "code",
			"execution_count": 101,
			"id": "7fc79853",
			"metadata": {},
			"outputs": [],
			"source": [
				"\n",
				"import openai\n",
				"from dotenv import dotenv_values\n",
				"config = dotenv_values(\".env\")\n",
				"openai.api_key = config[\"OPENAI_API_KEY\"]"
			]
		},
		{
			"cell_type": "code",
			"execution_count": 103,
			"id": "63bc8667",
			"metadata": {},
			"outputs": [
				{
					"data": {
						"text/plain": [
							"<OpenAIObject chat.completion id=chatcmpl-71lJHPDpKvv0yMDZrAlbgdI75maWv at 0x7fdba8a474f0> JSON: {\n",
							"  \"choices\": [\n",
							"    {\n",
							"      \"finish_reason\": \"length\",\n",
							"      \"index\": 0,\n",
							"      \"message\": {\n",
							"        \"content\": \"Changing\",\n",
							"        \"role\": \"assistant\"\n",
							"      }\n",
							"    }\n",
							"  ],\n",
							"  \"created\": 1680654543,\n",
							"  \"id\": \"chatcmpl-71lJHPDpKvv0yMDZrAlbgdI75maWv\",\n",
							"  \"model\": \"gpt-3.5-turbo-0314\",\n",
							"  \"object\": \"chat.completion\",\n",
							"  \"usage\": {\n",
							"    \"completion_tokens\": 1,\n",
							"    \"prompt_tokens\": 129,\n",
							"    \"total_tokens\": 130\n",
							"  }\n",
							"}"
						]
					},
					"execution_count": 103,
					"metadata": {},
					"output_type": "execute_result"
				}
			],
			"source": [
				"openai.ChatCompletion.create(\n",
				"    model=\"gpt-3.5-turbo\",\n",
				"    messages=example_messages,\n",
				"    max_tokens=1\n",
				")"
			]
		}
	],
	"metadata": {
		"kernelspec": {
			"display_name": "Python 3",
			"language": "python",
			"name": "python3"
		},
		"language_info": {
			"codemirror_mode": {
				"name": "ipython",
				"version": 3
			},
			"file_extension": ".py",
			"mimetype": "text/x-python",
			"name": "python",
			"nbconvert_exporter": "python",
			"pygments_lexer": "ipython3",
			"version": "3.8.8"
		}
	},
	"nbformat": 4,
	"nbformat_minor": 5
}
